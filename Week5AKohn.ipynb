{
 "cells": [
  {
   "cell_type": "markdown",
   "metadata": {},
   "source": [
    "# Week 5 ( Aaron Kohn)\n",
    "\n",
    "http://thinkstats2.com\n",
    "\n",
    "Copyright 2016 Allen B. Downey\n",
    "\n",
    "MIT License: https://opensource.org/licenses/MIT"
   ]
  },
  {
   "cell_type": "markdown",
   "metadata": {},
   "source": [
    "## Exercise 5-1"
   ]
  },
  {
   "cell_type": "code",
   "execution_count": 1,
   "metadata": {},
   "outputs": [],
   "source": [
    "import scipy.stats\n",
    "import hinc\n",
    "import nsfg\n",
    "import math\n",
    "import thinkstats2\n",
    "import numpy as np"
   ]
  },
  {
   "cell_type": "code",
   "execution_count": 2,
   "metadata": {},
   "outputs": [
    {
     "name": "stdout",
     "output_type": "stream",
     "text": [
      "The percentage of the population that is within the range is % 34.27468376314744\n"
     ]
    },
    {
     "data": {
      "text/plain": [
       "array([0.48963903, 0.83238587])"
      ]
     },
     "execution_count": 2,
     "metadata": {},
     "output_type": "execute_result"
    }
   ],
   "source": [
    "logmean = 178/2.54 # Lognormal mean of males in inches\n",
    "logsd= 7.7/2.54 # Lognormal standard deviation in inches\n",
    "BMlow = 70\n",
    "BMhigh = 73\n",
    "BMrange = scipy.stats.norm.cdf([BMlow, BMhigh],loc=logmean, scale=logsd)\n",
    "print('The percentage of the population that is within the range is %',(BMrange[1] - BMrange[0])*100)\n",
    "BMrange"
   ]
  },
  {
   "cell_type": "markdown",
   "metadata": {},
   "source": [
    "## Exercise 5-2"
   ]
  },
  {
   "cell_type": "code",
   "execution_count": 3,
   "metadata": {},
   "outputs": [
    {
     "data": {
      "text/plain": [
       "2.428571428571429"
      ]
     },
     "execution_count": 3,
     "metadata": {},
     "output_type": "execute_result"
    }
   ],
   "source": [
    "parheight = scipy.stats.pareto(b= 1.7, scale= 1) # Calculate Pareto distribution\n",
    "\n",
    "parheight.mean() # Mean height in meters\n"
   ]
  },
  {
   "cell_type": "code",
   "execution_count": 4,
   "metadata": {},
   "outputs": [
    {
     "data": {
      "text/plain": [
       "0.778739697565288"
      ]
     },
     "execution_count": 4,
     "metadata": {},
     "output_type": "execute_result"
    }
   ],
   "source": [
    "parheight.cdf(parheight.mean()) # CDF of mean"
   ]
  },
  {
   "cell_type": "code",
   "execution_count": 5,
   "metadata": {},
   "outputs": [
    {
     "data": {
      "text/plain": [
       "55602.976430479954"
      ]
     },
     "execution_count": 5,
     "metadata": {},
     "output_type": "execute_result"
    }
   ],
   "source": [
    "(1 - parheight.cdf(1000)) * 7000000000 # In a population of 7 Billion amount projected to be over 1 km."
   ]
  },
  {
   "cell_type": "code",
   "execution_count": 6,
   "metadata": {},
   "outputs": [
    {
     "data": {
      "text/plain": [
       "618349.6106759505"
      ]
     },
     "execution_count": 6,
     "metadata": {},
     "output_type": "execute_result"
    }
   ],
   "source": [
    "parheight.ppf(1 - 1/7000000000) # Height in meters of tallest indivdual."
   ]
  },
  {
   "cell_type": "markdown",
   "metadata": {},
   "source": [
    "## Exercise 6-1"
   ]
  },
  {
   "cell_type": "code",
   "execution_count": 7,
   "metadata": {},
   "outputs": [],
   "source": [
    "# Copied from chapter 6 execise. Change made from iterrows to itertuples.\n",
    "def InterpolateSample(df, log_upper=6.0):\n",
    "    \"\"\"Makes a sample of log10 household income.\n",
    "\n",
    "    Assumes that log10 income is uniform in each range.\n",
    "\n",
    "    df: DataFrame with columns income and freq\n",
    "    log_upper: log10 of the assumed upper bound for the highest range\n",
    "\n",
    "    returns: NumPy array of log10 household income\n",
    "    \"\"\"\n",
    "    # compute the log10 of the upper bound for each range\n",
    "    df['log_upper'] = np.log10(df.income)\n",
    "\n",
    "    # get the lower bounds by shifting the upper bound and filling in\n",
    "    # the first element\n",
    "    df['log_lower'] = df.log_upper.shift(1)\n",
    "    df.loc[0, 'log_lower'] = 3.0\n",
    "\n",
    "    # plug in a value for the unknown upper bound of the highest range\n",
    "    df.loc[41, 'log_upper'] = log_upper\n",
    "    \n",
    "    # use the freq column to generate the right number of values in\n",
    "    # each range\n",
    "    arrays = []\n",
    "    for  row in df.itertuples():\n",
    "        vals = np.linspace(row.log_lower, row.log_upper, row.freq)\n",
    "        arrays.append(vals)\n",
    "\n",
    "    # collect the arrays into a single sample\n",
    "    log_sample = np.concatenate(arrays)\n",
    "    return log_sample"
   ]
  },
  {
   "cell_type": "code",
   "execution_count": 8,
   "metadata": {},
   "outputs": [],
   "source": [
    "income_df = hinc.ReadData()\n",
    "log_sample = InterpolateSample(income_df, log_upper=6.0)\n",
    "sample = np.power(10, log_sample)"
   ]
  },
  {
   "cell_type": "code",
   "execution_count": 9,
   "metadata": {},
   "outputs": [],
   "source": [
    "def RawMoment(xs, k):\n",
    "    return sum(x**k for x in xs) / len(xs)\n",
    "def Mean(xs):\n",
    "    return RawMoment(xs, 1)\n",
    "def CentralMoment(xs, k):\n",
    "    mean = Mean(xs)\n",
    "    return sum((x -mean)**k for x in xs)/ len(xs)\n",
    "def Median(xs):\n",
    "    CDF = thinkstats2.Cdf(xs)\n",
    "    return CDF.Value(.5)\n",
    "def StandardizedMoment(xs, k):\n",
    "    var = CentralMoment(xs, 2)\n",
    "    std = math.sqrt(var)\n",
    "    return CentralMoment(xs, k) / std**k\n",
    "def Skewness(xs):\n",
    "    return StandardizedMoment(xs, 3)\n",
    "def PearsonSkew(xs):\n",
    "    mean = Mean(xs)\n",
    "    median = Median(xs)\n",
    "    var = CentralMoment(xs, 2)\n",
    "    std = math.sqrt(var)\n",
    "    ps = 3 * (mean - median) / std\n",
    "    return ps\n",
    "def Output(xs):\n",
    "    print('Mean = ', Mean(xs))\n",
    "    print('Median = ', Median(xs))\n",
    "    print('Skew = ', Skewness(xs))\n",
    "    print(\"Pearson's median skewness = \", PearsonSkew(xs))\n",
    "    CDF = thinkstats2.Cdf(xs)\n",
    "    print('Amount below mean =', CDF[Mean(xs)])"
   ]
  },
  {
   "cell_type": "code",
   "execution_count": 10,
   "metadata": {},
   "outputs": [
    {
     "name": "stdout",
     "output_type": "stream",
     "text": [
      "Mean =  74278.70753118733\n",
      "Median =  51226.45447894046\n",
      "Skew =  4.949920244429583\n",
      "Pearson's median skewness =  0.7361258019141782\n",
      "Amount below mean = 0.660005879566872\n"
     ]
    }
   ],
   "source": [
    "Output(sample)"
   ]
  },
  {
   "cell_type": "markdown",
   "metadata": {},
   "source": [
    "All values are calculated with the assumption that the top earner is making 1 million dollars. Assuming a higher number will move the values up accordingly. The mean will remain the same, since the amount of responders dosen't change, and only the top earners are being adjusted. Below is the calculations for a top earner at 10 million."
   ]
  },
  {
   "cell_type": "code",
   "execution_count": 11,
   "metadata": {},
   "outputs": [
    {
     "name": "stdout",
     "output_type": "stream",
     "text": [
      "Mean =  124267.39722164685\n",
      "Median =  51226.45447894046\n",
      "Skew =  11.603690267537793\n",
      "Pearson's median skewness =  0.39156450927742087\n",
      "Amount below mean = 0.8565630665207663\n"
     ]
    }
   ],
   "source": [
    "log_sample7 = InterpolateSample(income_df, log_upper=7.0)\n",
    "sample7 = np.power(10, log_sample7)\n",
    "Output(sample7)"
   ]
  },
  {
   "cell_type": "markdown",
   "metadata": {},
   "source": [
    "The mean has gone up while the median has remained the same. The skew has increased. However, the Pearsons skew has gone down. It is important to note that increasing the amount of the top earner increases the difference in income between the largest earners, while the lower levels remain unchanged."
   ]
  }
 ],
 "metadata": {
  "kernelspec": {
   "display_name": "Python 3",
   "language": "python",
   "name": "python3"
  },
  "language_info": {
   "codemirror_mode": {
    "name": "ipython",
    "version": 3
   },
   "file_extension": ".py",
   "mimetype": "text/x-python",
   "name": "python",
   "nbconvert_exporter": "python",
   "pygments_lexer": "ipython3",
   "version": "3.8.5"
  }
 },
 "nbformat": 4,
 "nbformat_minor": 4
}
